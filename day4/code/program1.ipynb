{
 "cells": [
  {
   "cell_type": "markdown",
   "id": "82fe2aa7-2107-4cc3-8b2d-c6feb6c95756",
   "metadata": {},
   "source": [
    "# measures of dispersion/variations"
   ]
  },
  {
   "cell_type": "markdown",
   "id": "82bbbb40-7fb8-414a-809d-9e0fe1dca5ba",
   "metadata": {},
   "source": [
    "### import required packages"
   ]
  },
  {
   "cell_type": "code",
   "execution_count": 1,
   "id": "dd0b20b4-795e-452c-9309-dfd6683007c8",
   "metadata": {},
   "outputs": [],
   "source": [
    "import numpy as np\n",
    "import pandas as pd\n",
    "import matplotlib.pyplot as plt\n",
    "import seaborn"
   ]
  },
  {
   "cell_type": "markdown",
   "id": "e42630a7-92c2-4c5d-ad69-db3e7978ab05",
   "metadata": {},
   "source": [
    "### load the data"
   ]
  },
  {
   "cell_type": "code",
   "execution_count": 2,
   "id": "09081bb8-9563-4ada-90a3-ee29ded1edcf",
   "metadata": {},
   "outputs": [],
   "source": [
    "series = pd.Series([2, 3, 5, 8, 9, 11, 23, 43])"
   ]
  },
  {
   "cell_type": "markdown",
   "id": "2e2df488-b428-42d3-b218-112ac812b726",
   "metadata": {},
   "source": [
    "### calculate the measures of variations"
   ]
  },
  {
   "cell_type": "code",
   "execution_count": 5,
   "id": "67ee3c71-2170-4697-aa9c-43f0be7d2ba6",
   "metadata": {},
   "outputs": [
    {
     "data": {
      "text/plain": [
       "41"
      ]
     },
     "execution_count": 5,
     "metadata": {},
     "output_type": "execute_result"
    }
   ],
   "source": [
    "range = series.max() - series.min()\n",
    "range"
   ]
  },
  {
   "cell_type": "code",
   "execution_count": 6,
   "id": "20933d08-02e3-4a1d-a8e5-d9a23485bf7f",
   "metadata": {},
   "outputs": [
    {
     "data": {
      "text/plain": [
       "count     8.000000\n",
       "mean     13.000000\n",
       "std      13.784049\n",
       "min       2.000000\n",
       "25%       4.500000\n",
       "50%       8.500000\n",
       "75%      14.000000\n",
       "max      43.000000\n",
       "dtype: float64"
      ]
     },
     "execution_count": 6,
     "metadata": {},
     "output_type": "execute_result"
    }
   ],
   "source": [
    "series.describe()"
   ]
  },
  {
   "cell_type": "code",
   "execution_count": 10,
   "id": "b6587bbd-2cc2-4d09-9d57-f07304dedcd4",
   "metadata": {},
   "outputs": [
    {
     "data": {
      "text/plain": [
       "13.784048752090222"
      ]
     },
     "execution_count": 10,
     "metadata": {},
     "output_type": "execute_result"
    }
   ],
   "source": [
    "# standard deviation\n",
    "series.std()"
   ]
  },
  {
   "cell_type": "code",
   "execution_count": 9,
   "id": "18835bde-37cb-480c-b265-1e5d5c37e06f",
   "metadata": {},
   "outputs": [
    {
     "data": {
      "text/plain": [
       "190.0"
      ]
     },
     "execution_count": 9,
     "metadata": {},
     "output_type": "execute_result"
    }
   ],
   "source": [
    "# vaiance\n",
    "series.std() ** 2"
   ]
  },
  {
   "cell_type": "code",
   "execution_count": 12,
   "id": "808c9621-8f8f-4922-99b8-471a19fde8d5",
   "metadata": {},
   "outputs": [
    {
     "data": {
      "text/plain": [
       "190.0"
      ]
     },
     "execution_count": 12,
     "metadata": {},
     "output_type": "execute_result"
    }
   ],
   "source": [
    "# vaiance\n",
    "series.var()"
   ]
  },
  {
   "cell_type": "code",
   "execution_count": null,
   "id": "b45f9b4d-a7cc-49aa-a832-efd8d8fc2e54",
   "metadata": {},
   "outputs": [],
   "source": []
  }
 ],
 "metadata": {
  "kernelspec": {
   "display_name": "Python 3 (ipykernel)",
   "language": "python",
   "name": "python3"
  },
  "language_info": {
   "codemirror_mode": {
    "name": "ipython",
    "version": 3
   },
   "file_extension": ".py",
   "mimetype": "text/x-python",
   "name": "python",
   "nbconvert_exporter": "python",
   "pygments_lexer": "ipython3",
   "version": "3.10.17"
  }
 },
 "nbformat": 4,
 "nbformat_minor": 5
}
